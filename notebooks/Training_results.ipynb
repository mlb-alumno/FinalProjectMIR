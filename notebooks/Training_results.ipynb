{
 "cells": [
  {
   "cell_type": "code",
   "execution_count": null,
   "metadata": {},
   "outputs": [],
   "source": [
    "import pandas as pd\n",
    "import seaborn as sns\n",
    "import os\n",
    "\n",
    "sns.set_style(\"whitegrid\")"
   ]
  },
  {
   "cell_type": "markdown",
   "metadata": {},
   "source": [
    "## IMPORTANT: define your working directory"
   ]
  },
  {
   "cell_type": "code",
   "execution_count": null,
   "metadata": {},
   "outputs": [],
   "source": [
    "working = \"ADD_WORKING_DIRECTORY_PATH_HERE\""
   ]
  },
  {
   "cell_type": "code",
   "execution_count": null,
   "metadata": {},
   "outputs": [],
   "source": [
    "fold_results = []\n",
    "N_SPLITS = 1\n",
    "\n",
    "for fold in range(N_SPLITS):\n",
    "    file_path = os.path.join(\n",
    "        working, f\"model_deep/fold{fold:02d}_test_100epochs.csv\"\n",
    "    )\n",
    "    # Read the CSV file for the current fold\n",
    "    df = pd.read_csv(file_path, index_col=0)\n",
    "    fold_results.append(df)\n",
    "\n",
    "# Combine the results by taking the average\n",
    "average_results = pd.concat(fold_results).mean()\n",
    "\n",
    "# Display or save the averaged results\n",
    "print(average_results)\n",
    "# Optionally save the averaged results to a new CSV file\n",
    "average_results.to_csv(\n",
    "    os.path.join(working, \"model_deep/average_results_100epochs.csv\")\n",
    ")"
   ]
  },
  {
   "cell_type": "code",
   "execution_count": null,
   "metadata": {},
   "outputs": [],
   "source": [
    "fold_results = []\n",
    "\n",
    "# Loop through the 5 folds\n",
    "for fold in range(N_SPLITS):\n",
    "    file_path = os.path.join(\n",
    "        working, f\"jazznet_2/model_deep/fold{fold:02d}_test_070epochs.csv\"\n",
    "    )\n",
    "    # Read the CSV file for the current fold\n",
    "    df = pd.read_csv(file_path, index_col=0)\n",
    "    fold_results.append(df)\n",
    "\n",
    "# Combine the results by taking the average\n",
    "average_results = pd.concat(fold_results).mean()\n",
    "\n",
    "# Display or save the averaged results\n",
    "print(average_results)\n",
    "# Optionally save the averaged results to a new CSV file\n",
    "average_results.to_csv(\n",
    "    os.path.join(working, \"jazznet_2/model_deep/average_results_070epochs.csv\")\n",
    ")"
   ]
  },
  {
   "cell_type": "code",
   "execution_count": null,
   "metadata": {},
   "outputs": [],
   "source": []
  }
 ],
 "metadata": {
  "kernelspec": {
   "display_name": "venv",
   "language": "python",
   "name": "python3"
  },
  "language_info": {
   "codemirror_mode": {
    "name": "ipython",
    "version": 3
   },
   "file_extension": ".py",
   "mimetype": "text/x-python",
   "name": "python",
   "nbconvert_exporter": "python",
   "pygments_lexer": "ipython3",
   "version": "3.11.11"
  }
 },
 "nbformat": 4,
 "nbformat_minor": 2
}
