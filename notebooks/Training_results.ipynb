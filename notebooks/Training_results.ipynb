{
 "cells": [
  {
   "cell_type": "code",
   "execution_count": 1,
   "metadata": {},
   "outputs": [],
   "source": [
    "import pandas as pd\n",
    "import seaborn as sns\n",
    "import os\n",
    "\n",
    "sns.set_style(\"whitegrid\")"
   ]
  },
  {
   "cell_type": "markdown",
   "metadata": {},
   "source": [
    "## IMPORTANT: define your working directory"
   ]
  },
  {
   "cell_type": "code",
   "execution_count": 2,
   "metadata": {},
   "outputs": [],
   "source": [
    "working = \"/Users/theo/School/2/MIR/final-project/FinalProjectMIR/working\""
   ]
  },
  {
   "cell_type": "code",
   "execution_count": null,
   "metadata": {},
   "outputs": [
    {
     "name": "stdout",
     "output_type": "stream",
     "text": [
      "root        0.757573\n",
      "thirds      0.717039\n",
      "triads      0.678833\n",
      "tetrads     0.546494\n",
      "mirex       0.746493\n",
      "majmin      0.734274\n",
      "sevenths    0.602449\n",
      "dtype: float64\n"
     ]
    }
   ],
   "source": [
    "fold_results = []\n",
    "N_SPLITS = 5\n",
    "\n",
    "for fold in range(N_SPLITS):\n",
    "    file_path = os.path.join(\n",
    "        working, f\"chords_andrea/model_deep/fold{fold:02d}_test_100epochs.csv\"\n",
    "    )\n",
    "    # Read the CSV file for the current fold\n",
    "    df = pd.read_csv(file_path, index_col=0)\n",
    "    fold_results.append(df)\n",
    "\n",
    "# Combine the results by taking the average\n",
    "average_results = pd.concat(fold_results).mean()\n",
    "\n",
    "# Display or save the averaged results\n",
    "print(average_results)\n",
    "# Optionally save the averaged results to a new CSV file\n",
    "average_results.to_csv(\n",
    "    os.path.join(\n",
    "        working, \"chords_andrea/model_deep/average_results_100epochs.csv\"\n",
    "    )\n",
    ")"
   ]
  },
  {
   "cell_type": "code",
   "execution_count": null,
   "metadata": {},
   "outputs": [
    {
     "name": "stdout",
     "output_type": "stream",
     "text": [
      "root        0.984388\n",
      "thirds      0.984250\n",
      "triads      0.984234\n",
      "tetrads     0.984151\n",
      "mirex       0.984770\n",
      "majmin      0.985110\n",
      "sevenths    0.980414\n",
      "dtype: float64\n"
     ]
    }
   ],
   "source": [
    "fold_results = []\n",
    "\n",
    "# Loop through the 5 folds\n",
    "for fold in range(N_SPLITS):\n",
    "    file_path = os.path.join(\n",
    "        working, f\"jazznet_2/model_deep/fold{fold:02d}_test_070epochs.csv\"\n",
    "    )\n",
    "    # Read the CSV file for the current fold\n",
    "    df = pd.read_csv(file_path, index_col=0)\n",
    "    fold_results.append(df)\n",
    "\n",
    "# Combine the results by taking the average\n",
    "average_results = pd.concat(fold_results).mean()\n",
    "\n",
    "# Display or save the averaged results\n",
    "print(average_results)\n",
    "# Optionally save the averaged results to a new CSV file\n",
    "average_results.to_csv(\n",
    "    os.path.join(working, \"jazznet_2/model_deep/average_results_070epochs.csv\")\n",
    ")"
   ]
  }
 ],
 "metadata": {
  "kernelspec": {
   "display_name": "venv",
   "language": "python",
   "name": "python3"
  },
  "language_info": {
   "codemirror_mode": {
    "name": "ipython",
    "version": 3
   },
   "file_extension": ".py",
   "mimetype": "text/x-python",
   "name": "python",
   "nbconvert_exporter": "python",
   "pygments_lexer": "ipython3",
   "version": "3.11.11"
  }
 },
 "nbformat": 4,
 "nbformat_minor": 2
}
