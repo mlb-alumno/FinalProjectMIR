{
 "cells": [
  {
   "cell_type": "code",
   "execution_count": null,
   "metadata": {},
   "outputs": [],
   "source": [
    "import jams\n",
    "import os\n",
    "from tqdm import tqdm"
   ]
  },
  {
   "cell_type": "code",
   "execution_count": null,
   "metadata": {},
   "outputs": [],
   "source": [
    "def round_to_decimals(value, decimals):\n",
    "    \"\"\"Round a value to a specific number of decimal places.\"\"\"\n",
    "    return round(value, decimals)\n",
    "\n",
    "\n",
    "def lab_to_jams(lab_file, jams_file):\n",
    "    # Create a new JAMS object\n",
    "    jam = jams.JAMS()\n",
    "\n",
    "    # Create a new annotation for chords\n",
    "    ann = jams.Annotation(namespace=\"chord\")\n",
    "\n",
    "    # Read the .lab file and calculate the duration\n",
    "    max_end_time = 0.0\n",
    "    with open(lab_file, \"r\") as f:\n",
    "        for line in f:\n",
    "            # Split the line into start time, end time, and chord label\n",
    "            line = line.strip()\n",
    "            if len(line) == 0:\n",
    "                continue\n",
    "\n",
    "            start, end, chord = line.split()\n",
    "\n",
    "            # Convert times to float\n",
    "            start = float(start)\n",
    "            end = float(end)\n",
    "\n",
    "            # Determine the number of decimal places in the input\n",
    "            start_str = f\"{start}\"  # Convert to string\n",
    "            if \".\" in start_str:\n",
    "                decimals = len(start_str.split(\".\")[1])  # Count decimal places\n",
    "            else:\n",
    "                decimals = 0\n",
    "\n",
    "            # Round the start and end times to the same number of decimal places\n",
    "            start = round_to_decimals(start, decimals)\n",
    "            end = round_to_decimals(end, decimals)\n",
    "\n",
    "            # Update the maximum end time\n",
    "            if end > max_end_time:\n",
    "                max_end_time = end\n",
    "\n",
    "            # Add the chord observation to the annotation\n",
    "            ann.append(\n",
    "                time=start,\n",
    "                duration=round_to_decimals(end - start, decimals),\n",
    "                value=chord,\n",
    "            )\n",
    "\n",
    "    # Add the annotation to the JAMS object\n",
    "    jam.annotations.append(ann)\n",
    "\n",
    "    # Set the file metadata duration (required by JAMS schema)\n",
    "    jam.file_metadata.duration = round_to_decimals(max_end_time, decimals)\n",
    "\n",
    "    # Save the JAMS object to a .jams file\n",
    "    jam.save(jams_file)"
   ]
  },
  {
   "cell_type": "code",
   "execution_count": null,
   "metadata": {},
   "outputs": [],
   "source": [
    "datasets_path = (\n",
    "    \"ADDRESS_TO_YOUR_DATASET\"  # Replace with the path to your dataset\n",
    ")\n",
    "for root, dirs, files in os.walk(datasets_path):\n",
    "    for file in tqdm(files):\n",
    "        if file.endswith(\".lab\"):\n",
    "            labs_file_path = os.path.join(root, file)\n",
    "            jams_file_path = labs_file_path.replace(\".lab\", \".jams\")\n",
    "            try:\n",
    "                lab_to_jams(labs_file_path, jams_file_path)\n",
    "            except Exception as e:\n",
    "                print(f\"Error processing {labs_file_path}\")\n",
    "                continue"
   ]
  }
 ],
 "metadata": {
  "kernelspec": {
   "display_name": "venv",
   "language": "python",
   "name": "python3"
  },
  "language_info": {
   "codemirror_mode": {
    "name": "ipython",
    "version": 3
   },
   "file_extension": ".py",
   "mimetype": "text/x-python",
   "name": "python",
   "nbconvert_exporter": "python",
   "pygments_lexer": "ipython3",
   "version": "3.11.11"
  }
 },
 "nbformat": 4,
 "nbformat_minor": 2
}
