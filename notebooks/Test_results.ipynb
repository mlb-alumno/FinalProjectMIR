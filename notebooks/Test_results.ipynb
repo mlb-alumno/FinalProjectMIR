{
 "cells": [
  {
   "cell_type": "code",
   "execution_count": 1,
   "metadata": {},
   "outputs": [],
   "source": [
    "import os\n",
    "import pickle\n",
    "import keras as K\n",
    "import numpy as np\n",
    "import tensorflow as tf\n",
    "import jams\n",
    "import builtins\n",
    "from tqdm import tqdm\n",
    "from decimal import ROUND_HALF_UP, Decimal\n",
    "import pandas as pd\n",
    "\n",
    "builtins.tf = tf"
   ]
  },
  {
   "cell_type": "markdown",
   "metadata": {},
   "source": [
    "## IMPORTANT set your working directory"
   ]
  },
  {
   "cell_type": "code",
   "execution_count": null,
   "metadata": {},
   "outputs": [],
   "source": [
    "working = \"/Users/theo/School/2/MIR/final-project/FinalProjectMIR/working/chords_andrea\""
   ]
  },
  {
   "cell_type": "code",
   "execution_count": 3,
   "metadata": {},
   "outputs": [],
   "source": [
    "def load_model(model_spec_path, weights_path):\n",
    "    # Load the serialized model spec\n",
    "    with open(model_spec_path, \"rb\") as fd:\n",
    "        model_spec = pickle.load(fd)\n",
    "    # Reconstruct the model from the serialized spec\n",
    "    model = K.utils.deserialize_keras_object(model_spec, safe_mode=False)\n",
    "    # Load the weights from the saved file\n",
    "    model.load_weights(weights_path)\n",
    "    return model"
   ]
  },
  {
   "cell_type": "code",
   "execution_count": 6,
   "metadata": {},
   "outputs": [
    {
     "data": {
      "text/html": [
       "<pre style=\"white-space:pre;overflow-x:auto;line-height:normal;font-family:Menlo,'DejaVu Sans Mono',consolas,'Courier New',monospace\"><span style=\"font-weight: bold\">Model: \"functional\"</span>\n",
       "</pre>\n"
      ],
      "text/plain": [
       "\u001b[1mModel: \"functional\"\u001b[0m\n"
      ]
     },
     "metadata": {},
     "output_type": "display_data"
    },
    {
     "data": {
      "text/html": [
       "<pre style=\"white-space:pre;overflow-x:auto;line-height:normal;font-family:Menlo,'DejaVu Sans Mono',consolas,'Courier New',monospace\">┏━━━━━━━━━━━━━━━━━━━━━━━━━━━━━━━━━┳━━━━━━━━━━━━━━━━━━━━━━━━┳━━━━━━━━━━━━━━━┓\n",
       "┃<span style=\"font-weight: bold\"> Layer (type)                    </span>┃<span style=\"font-weight: bold\"> Output Shape           </span>┃<span style=\"font-weight: bold\">       Param # </span>┃\n",
       "┡━━━━━━━━━━━━━━━━━━━━━━━━━━━━━━━━━╇━━━━━━━━━━━━━━━━━━━━━━━━╇━━━━━━━━━━━━━━━┩\n",
       "│ cqt_mag (<span style=\"color: #0087ff; text-decoration-color: #0087ff\">InputLayer</span>)            │ (<span style=\"color: #00d7ff; text-decoration-color: #00d7ff\">None</span>, <span style=\"color: #00d7ff; text-decoration-color: #00d7ff\">None</span>, <span style=\"color: #00af00; text-decoration-color: #00af00\">216</span>, <span style=\"color: #00af00; text-decoration-color: #00af00\">1</span>)   │             <span style=\"color: #00af00; text-decoration-color: #00af00\">0</span> │\n",
       "├─────────────────────────────────┼────────────────────────┼───────────────┤\n",
       "│ batch_normalization             │ (<span style=\"color: #00d7ff; text-decoration-color: #00d7ff\">None</span>, <span style=\"color: #00d7ff; text-decoration-color: #00d7ff\">None</span>, <span style=\"color: #00af00; text-decoration-color: #00af00\">216</span>, <span style=\"color: #00af00; text-decoration-color: #00af00\">1</span>)   │             <span style=\"color: #00af00; text-decoration-color: #00af00\">4</span> │\n",
       "│ (<span style=\"color: #0087ff; text-decoration-color: #0087ff\">BatchNormalization</span>)            │                        │               │\n",
       "├─────────────────────────────────┼────────────────────────┼───────────────┤\n",
       "│ conv2d (<span style=\"color: #0087ff; text-decoration-color: #0087ff\">Conv2D</span>)                 │ (<span style=\"color: #00d7ff; text-decoration-color: #00d7ff\">None</span>, <span style=\"color: #00d7ff; text-decoration-color: #00d7ff\">None</span>, <span style=\"color: #00af00; text-decoration-color: #00af00\">216</span>, <span style=\"color: #00af00; text-decoration-color: #00af00\">1</span>)   │            <span style=\"color: #00af00; text-decoration-color: #00af00\">26</span> │\n",
       "├─────────────────────────────────┼────────────────────────┼───────────────┤\n",
       "│ conv2d_1 (<span style=\"color: #0087ff; text-decoration-color: #0087ff\">Conv2D</span>)               │ (<span style=\"color: #00d7ff; text-decoration-color: #00d7ff\">None</span>, <span style=\"color: #00d7ff; text-decoration-color: #00d7ff\">None</span>, <span style=\"color: #00af00; text-decoration-color: #00af00\">1</span>, <span style=\"color: #00af00; text-decoration-color: #00af00\">36</span>)    │         <span style=\"color: #00af00; text-decoration-color: #00af00\">7,812</span> │\n",
       "├─────────────────────────────────┼────────────────────────┼───────────────┤\n",
       "│ lambda (<span style=\"color: #0087ff; text-decoration-color: #0087ff\">Lambda</span>)                 │ (<span style=\"color: #00d7ff; text-decoration-color: #00d7ff\">None</span>, <span style=\"color: #00d7ff; text-decoration-color: #00d7ff\">None</span>, <span style=\"color: #00af00; text-decoration-color: #00af00\">36</span>)       │             <span style=\"color: #00af00; text-decoration-color: #00af00\">0</span> │\n",
       "├─────────────────────────────────┼────────────────────────┼───────────────┤\n",
       "│ bidirectional (<span style=\"color: #0087ff; text-decoration-color: #0087ff\">Bidirectional</span>)   │ (<span style=\"color: #00d7ff; text-decoration-color: #00d7ff\">None</span>, <span style=\"color: #00d7ff; text-decoration-color: #00d7ff\">None</span>, <span style=\"color: #00af00; text-decoration-color: #00af00\">256</span>)      │       <span style=\"color: #00af00; text-decoration-color: #00af00\">127,488</span> │\n",
       "├─────────────────────────────────┼────────────────────────┼───────────────┤\n",
       "│ bidirectional_1 (<span style=\"color: #0087ff; text-decoration-color: #0087ff\">Bidirectional</span>) │ (<span style=\"color: #00d7ff; text-decoration-color: #00d7ff\">None</span>, <span style=\"color: #00d7ff; text-decoration-color: #00d7ff\">None</span>, <span style=\"color: #00af00; text-decoration-color: #00af00\">256</span>)      │       <span style=\"color: #00af00; text-decoration-color: #00af00\">296,448</span> │\n",
       "├─────────────────────────────────┼────────────────────────┼───────────────┤\n",
       "│ chord_tag (<span style=\"color: #0087ff; text-decoration-color: #0087ff\">TimeDistributed</span>)     │ (<span style=\"color: #00d7ff; text-decoration-color: #00d7ff\">None</span>, <span style=\"color: #00d7ff; text-decoration-color: #00d7ff\">None</span>, <span style=\"color: #00af00; text-decoration-color: #00af00\">170</span>)      │        <span style=\"color: #00af00; text-decoration-color: #00af00\">43,690</span> │\n",
       "└─────────────────────────────────┴────────────────────────┴───────────────┘\n",
       "</pre>\n"
      ],
      "text/plain": [
       "┏━━━━━━━━━━━━━━━━━━━━━━━━━━━━━━━━━┳━━━━━━━━━━━━━━━━━━━━━━━━┳━━━━━━━━━━━━━━━┓\n",
       "┃\u001b[1m \u001b[0m\u001b[1mLayer (type)                   \u001b[0m\u001b[1m \u001b[0m┃\u001b[1m \u001b[0m\u001b[1mOutput Shape          \u001b[0m\u001b[1m \u001b[0m┃\u001b[1m \u001b[0m\u001b[1m      Param #\u001b[0m\u001b[1m \u001b[0m┃\n",
       "┡━━━━━━━━━━━━━━━━━━━━━━━━━━━━━━━━━╇━━━━━━━━━━━━━━━━━━━━━━━━╇━━━━━━━━━━━━━━━┩\n",
       "│ cqt_mag (\u001b[38;5;33mInputLayer\u001b[0m)            │ (\u001b[38;5;45mNone\u001b[0m, \u001b[38;5;45mNone\u001b[0m, \u001b[38;5;34m216\u001b[0m, \u001b[38;5;34m1\u001b[0m)   │             \u001b[38;5;34m0\u001b[0m │\n",
       "├─────────────────────────────────┼────────────────────────┼───────────────┤\n",
       "│ batch_normalization             │ (\u001b[38;5;45mNone\u001b[0m, \u001b[38;5;45mNone\u001b[0m, \u001b[38;5;34m216\u001b[0m, \u001b[38;5;34m1\u001b[0m)   │             \u001b[38;5;34m4\u001b[0m │\n",
       "│ (\u001b[38;5;33mBatchNormalization\u001b[0m)            │                        │               │\n",
       "├─────────────────────────────────┼────────────────────────┼───────────────┤\n",
       "│ conv2d (\u001b[38;5;33mConv2D\u001b[0m)                 │ (\u001b[38;5;45mNone\u001b[0m, \u001b[38;5;45mNone\u001b[0m, \u001b[38;5;34m216\u001b[0m, \u001b[38;5;34m1\u001b[0m)   │            \u001b[38;5;34m26\u001b[0m │\n",
       "├─────────────────────────────────┼────────────────────────┼───────────────┤\n",
       "│ conv2d_1 (\u001b[38;5;33mConv2D\u001b[0m)               │ (\u001b[38;5;45mNone\u001b[0m, \u001b[38;5;45mNone\u001b[0m, \u001b[38;5;34m1\u001b[0m, \u001b[38;5;34m36\u001b[0m)    │         \u001b[38;5;34m7,812\u001b[0m │\n",
       "├─────────────────────────────────┼────────────────────────┼───────────────┤\n",
       "│ lambda (\u001b[38;5;33mLambda\u001b[0m)                 │ (\u001b[38;5;45mNone\u001b[0m, \u001b[38;5;45mNone\u001b[0m, \u001b[38;5;34m36\u001b[0m)       │             \u001b[38;5;34m0\u001b[0m │\n",
       "├─────────────────────────────────┼────────────────────────┼───────────────┤\n",
       "│ bidirectional (\u001b[38;5;33mBidirectional\u001b[0m)   │ (\u001b[38;5;45mNone\u001b[0m, \u001b[38;5;45mNone\u001b[0m, \u001b[38;5;34m256\u001b[0m)      │       \u001b[38;5;34m127,488\u001b[0m │\n",
       "├─────────────────────────────────┼────────────────────────┼───────────────┤\n",
       "│ bidirectional_1 (\u001b[38;5;33mBidirectional\u001b[0m) │ (\u001b[38;5;45mNone\u001b[0m, \u001b[38;5;45mNone\u001b[0m, \u001b[38;5;34m256\u001b[0m)      │       \u001b[38;5;34m296,448\u001b[0m │\n",
       "├─────────────────────────────────┼────────────────────────┼───────────────┤\n",
       "│ chord_tag (\u001b[38;5;33mTimeDistributed\u001b[0m)     │ (\u001b[38;5;45mNone\u001b[0m, \u001b[38;5;45mNone\u001b[0m, \u001b[38;5;34m170\u001b[0m)      │        \u001b[38;5;34m43,690\u001b[0m │\n",
       "└─────────────────────────────────┴────────────────────────┴───────────────┘\n"
      ]
     },
     "metadata": {},
     "output_type": "display_data"
    },
    {
     "data": {
      "text/html": [
       "<pre style=\"white-space:pre;overflow-x:auto;line-height:normal;font-family:Menlo,'DejaVu Sans Mono',consolas,'Courier New',monospace\"><span style=\"font-weight: bold\"> Total params: </span><span style=\"color: #00af00; text-decoration-color: #00af00\">1,426,402</span> (5.44 MB)\n",
       "</pre>\n"
      ],
      "text/plain": [
       "\u001b[1m Total params: \u001b[0m\u001b[38;5;34m1,426,402\u001b[0m (5.44 MB)\n"
      ]
     },
     "metadata": {},
     "output_type": "display_data"
    },
    {
     "data": {
      "text/html": [
       "<pre style=\"white-space:pre;overflow-x:auto;line-height:normal;font-family:Menlo,'DejaVu Sans Mono',consolas,'Courier New',monospace\"><span style=\"font-weight: bold\"> Trainable params: </span><span style=\"color: #00af00; text-decoration-color: #00af00\">475,466</span> (1.81 MB)\n",
       "</pre>\n"
      ],
      "text/plain": [
       "\u001b[1m Trainable params: \u001b[0m\u001b[38;5;34m475,466\u001b[0m (1.81 MB)\n"
      ]
     },
     "metadata": {},
     "output_type": "display_data"
    },
    {
     "data": {
      "text/html": [
       "<pre style=\"white-space:pre;overflow-x:auto;line-height:normal;font-family:Menlo,'DejaVu Sans Mono',consolas,'Courier New',monospace\"><span style=\"font-weight: bold\"> Non-trainable params: </span><span style=\"color: #00af00; text-decoration-color: #00af00\">2</span> (8.00 B)\n",
       "</pre>\n"
      ],
      "text/plain": [
       "\u001b[1m Non-trainable params: \u001b[0m\u001b[38;5;34m2\u001b[0m (8.00 B)\n"
      ]
     },
     "metadata": {},
     "output_type": "display_data"
    },
    {
     "data": {
      "text/html": [
       "<pre style=\"white-space:pre;overflow-x:auto;line-height:normal;font-family:Menlo,'DejaVu Sans Mono',consolas,'Courier New',monospace\"><span style=\"font-weight: bold\"> Optimizer params: </span><span style=\"color: #00af00; text-decoration-color: #00af00\">950,934</span> (3.63 MB)\n",
       "</pre>\n"
      ],
      "text/plain": [
       "\u001b[1m Optimizer params: \u001b[0m\u001b[38;5;34m950,934\u001b[0m (3.63 MB)\n"
      ]
     },
     "metadata": {},
     "output_type": "display_data"
    }
   ],
   "source": [
    "output_path = os.path.join(working, \"model_deep\")\n",
    "split = 0\n",
    "epochs = 100\n",
    "\n",
    "model_spec_path = os.path.join(\n",
    "    output_path, \"fold{:02d}_model_{:03d}_epochs.pkl\".format(split, epochs)\n",
    ")\n",
    "weights_path = os.path.join(\n",
    "    output_path, \"fold{:02d}_weights_{:03d}_epochs.keras\".format(split, epochs)\n",
    ")\n",
    "\n",
    "model = load_model(model_spec_path, weights_path)\n",
    "model.summary()"
   ]
  },
  {
   "cell_type": "code",
   "execution_count": 7,
   "metadata": {},
   "outputs": [],
   "source": [
    "def rename_slashes_in_op_fields(op):\n",
    "    \"\"\"\n",
    "    In-place rename of all slash-laden keys inside op.fields\n",
    "    so that the new keys replace '/' with '_'.\n",
    "    \"\"\"\n",
    "    # Must check that op.fields is actually a mutable dict\n",
    "    if hasattr(op, \"fields\") and isinstance(op.fields, dict):\n",
    "        new_dict = {}\n",
    "        for old_key, old_val in op.fields.items():\n",
    "            new_key = old_key.replace(\"/\", \"_\")  # e.g. 'cqt/mag' -> 'cqt_mag'\n",
    "            new_dict[new_key] = old_val\n",
    "        # Now overwrite op.fields with slash-free keys\n",
    "        op.fields = new_dict\n",
    "\n",
    "\n",
    "def rename_slashes_in_pump_opmap(pump):\n",
    "    \"\"\"\n",
    "    Go through pump.opmap, rename slash-based keys in each operator's fields.\n",
    "    \"\"\"\n",
    "    for op_name, op in pump.opmap.items():\n",
    "        # rename slashes in the operator's .fields\n",
    "        rename_slashes_in_op_fields(op)\n",
    "\n",
    "        # If you also need to rename the op_name itself if it had a slash,\n",
    "        # do it here (though 'chord_struct', 'chord_tag', 'cqt' do not have slashes):\n",
    "        # new_op_name = op_name.replace('/', '_')\n",
    "        # if new_op_name != op_name:\n",
    "        #     pump.opmap[new_op_name] = op\n",
    "\n",
    "\n",
    "def rename_slashes_in_pump_ops_list(pump):\n",
    "    \"\"\"\n",
    "    pump.ops is a list of the same operators, rename slash-based keys in each.\n",
    "    \"\"\"\n",
    "    for op in pump.ops:\n",
    "        rename_slashes_in_op_fields(op)"
   ]
  },
  {
   "cell_type": "code",
   "execution_count": 8,
   "metadata": {},
   "outputs": [],
   "source": [
    "with open(\n",
    "    os.path.join(working + \"/pump.pkl\"),\n",
    "    \"rb\",\n",
    ") as fd:\n",
    "    pump = pickle.load(fd)\n",
    "\n",
    "rename_slashes_in_pump_opmap(pump)\n",
    "rename_slashes_in_pump_ops_list(pump)"
   ]
  },
  {
   "cell_type": "code",
   "execution_count": 9,
   "metadata": {},
   "outputs": [],
   "source": [
    "def round_observation_times(annotation, precision=10, snap_tol=1e-6):\n",
    "    \"\"\"\n",
    "    Create new Observation objects with times and durations rounded using Decimal\n",
    "    arithmetic, then force them to be consecutive by snapping boundaries that are\n",
    "    within snap_tol.\n",
    "\n",
    "    Args:\n",
    "        annotation (JAMS Annotation): A JAMS-style chord annotation with Observation objects.\n",
    "        precision (int): Decimal places to round to.\n",
    "        snap_tol (float): Tolerance under which boundaries are forced equal.\n",
    "\n",
    "    Returns:\n",
    "        JAMS Annotation: The adjusted annotation.\n",
    "    \"\"\"\n",
    "\n",
    "    # Define quantizer string and quant\n",
    "    quant_str = \"1.\" + \"0\" * precision\n",
    "    quant = Decimal(quant_str)\n",
    "\n",
    "    # First pass: convert observation times/durations to Decimal.\n",
    "    obs_list = []\n",
    "    for obs in annotation.data:\n",
    "        rt = Decimal(str(obs.time)).quantize(quant, rounding=ROUND_HALF_UP)\n",
    "        rd = Decimal(str(obs.duration)).quantize(quant, rounding=ROUND_HALF_UP)\n",
    "        obs_list.append((rt, rd, obs.value, obs.confidence))\n",
    "\n",
    "    # Sort by start time.\n",
    "    obs_list.sort(key=lambda tup: tup[0])\n",
    "\n",
    "    # Second pass: force consecutive intervals.\n",
    "    fixed = []\n",
    "    # Start with the first observation.\n",
    "    prev_start, prev_dur, val, conf = obs_list[0]\n",
    "    prev_end = prev_start + prev_dur\n",
    "    fixed.append((prev_start, prev_dur, val, conf))\n",
    "\n",
    "    for current in obs_list[1:]:\n",
    "        current_start, current_dur, val, conf = current\n",
    "        # Force the current observation to start at prev_end\n",
    "        new_start = prev_end\n",
    "        # Calculate original end of current observation.\n",
    "        current_end = current_start + current_dur\n",
    "        # New duration is calculated as difference.\n",
    "        new_dur = current_end - new_start\n",
    "        if new_dur < Decimal(\"0\"):\n",
    "            new_dur = Decimal(\"0\")\n",
    "        fixed.append((new_start, new_dur, val, conf))\n",
    "        prev_end = new_start + new_dur  # update end\n",
    "\n",
    "    # Convert fixed intervals back to floats with snapping.\n",
    "    fixed_obs = []\n",
    "    # We'll build the new observations, and whenever the gap is below snap_tol, snap them.\n",
    "    prev_end_float = None\n",
    "    for start, dur, val, conf in fixed:\n",
    "        start_float = float(start)\n",
    "        dur_float = float(dur)\n",
    "        end_float = start_float + dur_float\n",
    "        if (\n",
    "            prev_end_float is not None\n",
    "            and abs(start_float - prev_end_float) < snap_tol\n",
    "        ):\n",
    "            # snap start exactly to previous end.\n",
    "            start_float = prev_end_float\n",
    "            # Adjust duration based on the original end.\n",
    "            end_float = float(start + dur)\n",
    "            dur_float = max(0, end_float - start_float)\n",
    "        obs_new = jams.Observation(\n",
    "            time=start_float,\n",
    "            duration=dur_float,\n",
    "            value=val,\n",
    "            confidence=conf,\n",
    "        )\n",
    "        fixed_obs.append(obs_new)\n",
    "        prev_end_float = start_float + dur_float\n",
    "\n",
    "    annotation.data = fixed_obs\n",
    "    return annotation"
   ]
  },
  {
   "cell_type": "code",
   "execution_count": 10,
   "metadata": {},
   "outputs": [],
   "source": [
    "def score_model(pump, model, idx, working, refs):\n",
    "    results = {}\n",
    "    for item in tqdm(idx, desc=\"Evaluating the model\"):\n",
    "        jam = jams.load(os.path.join(refs, f\"{item}.jams\"), validate=False)\n",
    "        datum = np.load(os.path.join(working, \"pump\", f\"{item}.npz\"))[\n",
    "            \"cqt_mag\"\n",
    "        ]\n",
    "\n",
    "        output = model.predict(datum)[0]\n",
    "\n",
    "        ann = pump[\"chord_tag\"].inverse(output)\n",
    "        ann = round_observation_times(ann)\n",
    "\n",
    "        ref_ann = round_observation_times(\n",
    "            jam.annotations[\"chord\", 0], precision=10\n",
    "        )\n",
    "\n",
    "        try:\n",
    "            results[item] = jams.eval.chord(ref_ann, ann)\n",
    "        except Exception as e:\n",
    "            print(f\"Error evaluating {item}: {e}\")\n",
    "\n",
    "    return pd.DataFrame.from_dict(results, orient=\"index\")[\n",
    "        [\"root\", \"thirds\", \"triads\", \"tetrads\", \"mirex\", \"majmin\", \"sevenths\"]\n",
    "    ]"
   ]
  },
  {
   "cell_type": "code",
   "execution_count": null,
   "metadata": {},
   "outputs": [
    {
     "name": "stderr",
     "output_type": "stream",
     "text": [
      "Evaluating the model:   0%|          | 0/128 [00:00<?, ?it/s]"
     ]
    },
    {
     "name": "stderr",
     "output_type": "stream",
     "text": [
      "\n"
     ]
    },
    {
     "ename": "FileNotFoundError",
     "evalue": "[Errno 2] No such file or directory: '/Users/theo/School/2/MIR/final-project/FinalProjectMIR/working/chords_andrea/pump/Beethoven_Op002No1-01_AS35.npz'",
     "output_type": "error",
     "traceback": [
      "\u001b[31m---------------------------------------------------------------------------\u001b[39m",
      "\u001b[31mFileNotFoundError\u001b[39m                         Traceback (most recent call last)",
      "\u001b[36mCell\u001b[39m\u001b[36m \u001b[39m\u001b[32mIn[11]\u001b[39m\u001b[32m, line 8\u001b[39m\n\u001b[32m      2\u001b[39m idx = pd.read_csv(\n\u001b[32m      3\u001b[39m     test_dataset_path,\n\u001b[32m      4\u001b[39m     header=\u001b[38;5;28;01mNone\u001b[39;00m,\n\u001b[32m      5\u001b[39m     names=[\u001b[33m\"\u001b[39m\u001b[33mid\u001b[39m\u001b[33m\"\u001b[39m],\n\u001b[32m      6\u001b[39m )\n\u001b[32m      7\u001b[39m refs = \u001b[33m\"\u001b[39m\u001b[33m/Users/theo/School/2/MIR/final-project/datasets/Beethoven_Piano_Sonata_Dataset_v2/2_Annotations/ann_audio_chord\u001b[39m\u001b[33m\"\u001b[39m\n\u001b[32m----> \u001b[39m\u001b[32m8\u001b[39m scores = \u001b[43mscore_model\u001b[49m\u001b[43m(\u001b[49m\u001b[43mpump\u001b[49m\u001b[43m,\u001b[49m\u001b[43m \u001b[49m\u001b[43mmodel\u001b[49m\u001b[43m,\u001b[49m\u001b[43m \u001b[49m\u001b[43midx\u001b[49m\u001b[43m[\u001b[49m\u001b[33;43m\"\u001b[39;49m\u001b[33;43mid\u001b[39;49m\u001b[33;43m\"\u001b[39;49m\u001b[43m]\u001b[49m\u001b[43m,\u001b[49m\u001b[43m \u001b[49m\u001b[43mworking\u001b[49m\u001b[43m,\u001b[49m\u001b[43m \u001b[49m\u001b[43mrefs\u001b[49m\u001b[43m)\u001b[49m\n",
      "\u001b[36mCell\u001b[39m\u001b[36m \u001b[39m\u001b[32mIn[10]\u001b[39m\u001b[32m, line 5\u001b[39m, in \u001b[36mscore_model\u001b[39m\u001b[34m(pump, model, idx, working, refs)\u001b[39m\n\u001b[32m      3\u001b[39m \u001b[38;5;28;01mfor\u001b[39;00m item \u001b[38;5;129;01min\u001b[39;00m tqdm(idx, desc=\u001b[33m\"\u001b[39m\u001b[33mEvaluating the model\u001b[39m\u001b[33m\"\u001b[39m):\n\u001b[32m      4\u001b[39m     jam = jams.load(os.path.join(refs, \u001b[33mf\u001b[39m\u001b[33m\"\u001b[39m\u001b[38;5;132;01m{\u001b[39;00mitem\u001b[38;5;132;01m}\u001b[39;00m\u001b[33m.jams\u001b[39m\u001b[33m\"\u001b[39m), validate=\u001b[38;5;28;01mFalse\u001b[39;00m)\n\u001b[32m----> \u001b[39m\u001b[32m5\u001b[39m     datum = \u001b[43mnp\u001b[49m\u001b[43m.\u001b[49m\u001b[43mload\u001b[49m\u001b[43m(\u001b[49m\u001b[43mos\u001b[49m\u001b[43m.\u001b[49m\u001b[43mpath\u001b[49m\u001b[43m.\u001b[49m\u001b[43mjoin\u001b[49m\u001b[43m(\u001b[49m\u001b[43mworking\u001b[49m\u001b[43m,\u001b[49m\u001b[43m \u001b[49m\u001b[33;43m\"\u001b[39;49m\u001b[33;43mpump\u001b[39;49m\u001b[33;43m\"\u001b[39;49m\u001b[43m,\u001b[49m\u001b[43m \u001b[49m\u001b[33;43mf\u001b[39;49m\u001b[33;43m\"\u001b[39;49m\u001b[38;5;132;43;01m{\u001b[39;49;00m\u001b[43mitem\u001b[49m\u001b[38;5;132;43;01m}\u001b[39;49;00m\u001b[33;43m.npz\u001b[39;49m\u001b[33;43m\"\u001b[39;49m\u001b[43m)\u001b[49m\u001b[43m)\u001b[49m[\n\u001b[32m      6\u001b[39m         \u001b[33m\"\u001b[39m\u001b[33mcqt_mag\u001b[39m\u001b[33m\"\u001b[39m\n\u001b[32m      7\u001b[39m     ]\n\u001b[32m      9\u001b[39m     output = model.predict(datum)[\u001b[32m0\u001b[39m]\n\u001b[32m     11\u001b[39m     ann = pump[\u001b[33m\"\u001b[39m\u001b[33mchord_tag\u001b[39m\u001b[33m\"\u001b[39m].inverse(output)\n",
      "\u001b[36mFile \u001b[39m\u001b[32m~/School/2/MIR/final-project/FinalProjectMIR/venv/lib/python3.11/site-packages/numpy/lib/npyio.py:427\u001b[39m, in \u001b[36mload\u001b[39m\u001b[34m(file, mmap_mode, allow_pickle, fix_imports, encoding, max_header_size)\u001b[39m\n\u001b[32m    425\u001b[39m     own_fid = \u001b[38;5;28;01mFalse\u001b[39;00m\n\u001b[32m    426\u001b[39m \u001b[38;5;28;01melse\u001b[39;00m:\n\u001b[32m--> \u001b[39m\u001b[32m427\u001b[39m     fid = stack.enter_context(\u001b[38;5;28;43mopen\u001b[39;49m\u001b[43m(\u001b[49m\u001b[43mos_fspath\u001b[49m\u001b[43m(\u001b[49m\u001b[43mfile\u001b[49m\u001b[43m)\u001b[49m\u001b[43m,\u001b[49m\u001b[43m \u001b[49m\u001b[33;43m\"\u001b[39;49m\u001b[33;43mrb\u001b[39;49m\u001b[33;43m\"\u001b[39;49m\u001b[43m)\u001b[49m)\n\u001b[32m    428\u001b[39m     own_fid = \u001b[38;5;28;01mTrue\u001b[39;00m\n\u001b[32m    430\u001b[39m \u001b[38;5;66;03m# Code to distinguish from NumPy binary files and pickles.\u001b[39;00m\n",
      "\u001b[31mFileNotFoundError\u001b[39m: [Errno 2] No such file or directory: '/Users/theo/School/2/MIR/final-project/FinalProjectMIR/working/chords_andrea/pump/Beethoven_Op002No1-01_AS35.npz'"
     ]
    }
   ],
   "source": [
    "test_dataset_path = \"/Users/theo/School/2/MIR/final-project/FinalProjectMIR/working/beethoven/dataset.csv\"\n",
    "idx = pd.read_csv(\n",
    "    test_dataset_path,\n",
    "    header=None,\n",
    "    names=[\"id\"],\n",
    ")\n",
    "pump_path = (\n",
    "    \"/Users/theo/School/2/MIR/final-project/FinalProjectMIR/working/beethoven\"\n",
    ")\n",
    "refs = \"/Users/theo/School/2/MIR/final-project/datasets/Beethoven_Piano_Sonata_Dataset_v2/2_Annotations/ann_audio_chord\"\n",
    "scores = score_model(pump, model, idx[\"id\"], working, refs)"
   ]
  },
  {
   "cell_type": "code",
   "execution_count": 28,
   "metadata": {},
   "outputs": [
    {
     "data": {
      "text/plain": [
       "root        0.355713\n",
       "thirds      0.197155\n",
       "triads      0.149103\n",
       "tetrads     0.027053\n",
       "mirex       0.316645\n",
       "majmin      0.155019\n",
       "sevenths    0.024112\n",
       "dtype: float64"
      ]
     },
     "execution_count": 28,
     "metadata": {},
     "output_type": "execute_result"
    }
   ],
   "source": [
    "scores.mean()"
   ]
  },
  {
   "cell_type": "code",
   "execution_count": 7,
   "metadata": {},
   "outputs": [],
   "source": [
    "chord_file_name = \"B-4-sus2-chord-1\"\n",
    "with open(\n",
    "    working + f\"jazznet/clean_dataset/jams/test/{chord_file_name}.jams\"\n",
    ") as fd:\n",
    "    jam = jams.load(fd)"
   ]
  },
  {
   "cell_type": "code",
   "execution_count": 8,
   "metadata": {},
   "outputs": [
    {
     "name": "stdout",
     "output_type": "stream",
     "text": [
      "\u001b[1m1/1\u001b[0m \u001b[32m━━━━━━━━━━━━━━━━━━━━\u001b[0m\u001b[37m\u001b[0m \u001b[1m0s\u001b[0m 312ms/step\n",
      "{\n",
      "  \"annotation_metadata\": {\n",
      "    \"curator\": {\n",
      "      \"name\": \"\",\n",
      "      \"email\": \"\"\n",
      "    },\n",
      "    \"annotator\": {},\n",
      "    \"version\": \"\",\n",
      "    \"corpus\": \"\",\n",
      "    \"annotation_tools\": \"\",\n",
      "    \"annotation_rules\": \"\",\n",
      "    \"validation\": \"\",\n",
      "    \"data_source\": \"\"\n",
      "  },\n",
      "  \"namespace\": \"chord\",\n",
      "  \"data\": [\n",
      "    {\n",
      "      \"time\": 0.0,\n",
      "      \"duration\": 1.1145578231292517,\n",
      "      \"value\": \"F#:sus4\",\n",
      "      \"confidence\": 0.795343279838562\n",
      "    },\n",
      "    {\n",
      "      \"time\": 1.1145578231292517,\n",
      "      \"duration\": 0.8359183673469388,\n",
      "      \"value\": \"C#:sus4\",\n",
      "      \"confidence\": 0.7688261270523071\n",
      "    },\n",
      "    {\n",
      "      \"time\": 1.9504761904761905,\n",
      "      \"duration\": 0.18575963718820843,\n",
      "      \"value\": \"D:maj\",\n",
      "      \"confidence\": 0.7014773488044739\n",
      "    },\n",
      "    {\n",
      "      \"time\": 2.136235827664399,\n",
      "      \"duration\": 0.09287981859410444,\n",
      "      \"value\": \"G:maj\",\n",
      "      \"confidence\": 0.24560080468654633\n",
      "    },\n",
      "    {\n",
      "      \"time\": 2.2291156462585033,\n",
      "      \"duration\": 0.5572789115646257,\n",
      "      \"value\": \"G:dim7\",\n",
      "      \"confidence\": 0.5197848677635193\n",
      "    },\n",
      "    {\n",
      "      \"time\": 2.786394557823129,\n",
      "      \"duration\": 0.2786394557823133,\n",
      "      \"value\": \"C:maj\",\n",
      "      \"confidence\": 0.25573548674583435\n",
      "    }\n",
      "  ],\n",
      "  \"sandbox\": {},\n",
      "  \"time\": 0,\n",
      "  \"duration\": null\n",
      "}\n",
      "OrderedDict([('thirds', 0.0), ('thirds_inv', 0.0), ('triads', 0.0), ('triads_inv', 0.0), ('tetrads', 0.0), ('tetrads_inv', 0.0), ('root', 0.0), ('mirex', 0.37151927437641724), ('majmin', 0), ('majmin_inv', 0), ('sevenths', 0), ('sevenths_inv', 0), ('underseg', 1.0), ('overseg', 0.3715192743764172), ('seg', 0.3715192743764172)])\n"
     ]
    },
    {
     "name": "stderr",
     "output_type": "stream",
     "text": [
      "/Users/theo/School/2/MIR/final-project/FinalProjectMIR/venv/lib/python3.11/site-packages/mir_eval/chord.py:700: UserWarning: No reference chords were comparable to estimated chords, returning 0.\n",
      "  warnings.warn(\n"
     ]
    }
   ],
   "source": [
    "input = np.load(working + f\"chords/pump/{chord_file_name}.npz\")[\"cqt_mag\"]\n",
    "\n",
    "predictions = model.predict(input)[0]\n",
    "\n",
    "ann = pump[\"chord_tag\"].inverse(predictions)\n",
    "print(ann)\n",
    "results = jams.eval.chord(jam.annotations[\"chord\", 0], ann)\n",
    "\n",
    "print(results)"
   ]
  },
  {
   "cell_type": "code",
   "execution_count": null,
   "metadata": {},
   "outputs": [],
   "source": []
  }
 ],
 "metadata": {
  "kernelspec": {
   "display_name": "venv",
   "language": "python",
   "name": "python3"
  },
  "language_info": {
   "codemirror_mode": {
    "name": "ipython",
    "version": 3
   },
   "file_extension": ".py",
   "mimetype": "text/x-python",
   "name": "python",
   "nbconvert_exporter": "python",
   "pygments_lexer": "ipython3",
   "version": "3.11.11"
  }
 },
 "nbformat": 4,
 "nbformat_minor": 2
}
