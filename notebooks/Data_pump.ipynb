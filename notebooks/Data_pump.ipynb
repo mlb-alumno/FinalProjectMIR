{
 "cells": [
  {
   "cell_type": "code",
   "execution_count": null,
   "metadata": {},
   "outputs": [],
   "source": [
    "import os\n",
    "\n",
    "from joblib import Parallel, delayed\n",
    "import pickle\n",
    "\n",
    "import pumpp\n",
    "import jams\n",
    "import numpy as np"
   ]
  },
  {
   "cell_type": "markdown",
   "metadata": {},
   "source": [
    "## IMPORTANT: define your working path"
   ]
  },
  {
   "cell_type": "code",
   "execution_count": null,
   "metadata": {},
   "outputs": [],
   "source": [
    "dataset = \"ADD_YOUR_DATASET_PATH_HERE\"\n",
    "working = \"ADD_YOUR_WORKING_DIR_HERE\""
   ]
  },
  {
   "cell_type": "code",
   "execution_count": null,
   "metadata": {},
   "outputs": [],
   "source": [
    "# LOAD TRAIN AND TEST IN THE PUMP\n",
    "def root(x):\n",
    "    return os.path.splitext(os.path.basename(x))[0]\n",
    "\n",
    "\n",
    "AUDIO = jams.util.find_with_extension(dataset + \"ADD_WAV_DIRECTORY\", \"wav\")\n",
    "ANNOS = jams.util.find_with_extension(dataset + \"ADD_JAMS_DIRECTORY\", \"jams\")\n",
    "# Filter AUDIO and ANNOS to only keep files that exist in both folders\n",
    "common_files = set(map(root, AUDIO)) & set(map(root, ANNOS))\n",
    "\n",
    "AUDIO = [file for file in AUDIO if root(file) in common_files]\n",
    "ANNOS = [file for file in ANNOS if root(file) in common_files]\n",
    "\n",
    "print(\"Number of audio files:\", len(AUDIO))\n",
    "# Make sure there are the same number of files\n",
    "assert len(AUDIO) == len(ANNOS)\n",
    "\n",
    "# And that they're in agreement\n",
    "assert all([root(_1) == root(_2) for (_1, _2) in zip(AUDIO, ANNOS)])"
   ]
  },
  {
   "cell_type": "code",
   "execution_count": null,
   "metadata": {},
   "outputs": [],
   "source": [
    "# Build a pump\n",
    "sr = 44100\n",
    "hop_length = 4096\n",
    "\n",
    "p_feature = pumpp.feature.CQTMag(\n",
    "    name=\"cqt\", sr=sr, hop_length=hop_length, log=True, conv=\"tf\", n_octaves=6\n",
    ")\n",
    "p_chord_tag = pumpp.task.ChordTagTransformer(\n",
    "    name=\"chord_tag\", sr=sr, hop_length=hop_length, sparse=True\n",
    ")\n",
    "p_chord_struct = pumpp.task.ChordTransformer(\n",
    "    name=\"chord_struct\", sr=sr, hop_length=hop_length, sparse=True\n",
    ")\n",
    "\n",
    "pump = pumpp.Pump(p_feature, p_chord_tag, p_chord_struct)\n",
    "\n",
    "# Save the pump\n",
    "with open(os.path.join(working, \"pump.pkl\"), \"wb\") as fd:\n",
    "    pickle.dump(pump, fd)"
   ]
  },
  {
   "cell_type": "code",
   "execution_count": null,
   "metadata": {},
   "outputs": [],
   "source": [
    "def convert(aud, jam, pump, outdir):\n",
    "    try:\n",
    "        data = pump.transform(aud, jam)\n",
    "    except Exception as e:\n",
    "        print(\"Error processing {}: {}\".format(aud, e))\n",
    "\n",
    "    fname = os.path.extsep.join([root(aud), \"npz\"])\n",
    "\n",
    "    np.savez(os.path.join(outdir, fname), **data)"
   ]
  },
  {
   "cell_type": "code",
   "execution_count": null,
   "metadata": {},
   "outputs": [],
   "source": [
    "OUTDIR = working + \"/pump/\"\n",
    "if not os.path.exists(OUTDIR):\n",
    "    os.makedirs(OUTDIR)"
   ]
  },
  {
   "cell_type": "code",
   "execution_count": null,
   "metadata": {},
   "outputs": [],
   "source": [
    "Parallel(n_jobs=20, verbose=10)(\n",
    "    delayed(convert)(aud, jam, pump, OUTDIR)\n",
    "    for (aud, jam) in zip(AUDIO, ANNOS)\n",
    ")"
   ]
  },
  {
   "cell_type": "code",
   "execution_count": null,
   "metadata": {},
   "outputs": [],
   "source": []
  }
 ],
 "metadata": {
  "kernelspec": {
   "display_name": "venv",
   "language": "python",
   "name": "python3"
  },
  "language_info": {
   "codemirror_mode": {
    "name": "ipython",
    "version": 3
   },
   "file_extension": ".py",
   "mimetype": "text/x-python",
   "name": "python",
   "nbconvert_exporter": "python",
   "pygments_lexer": "ipython3",
   "version": "3.11.11"
  }
 },
 "nbformat": 4,
 "nbformat_minor": 2
}
