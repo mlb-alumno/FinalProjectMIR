{
 "cells": [
  {
   "cell_type": "code",
   "execution_count": null,
   "metadata": {},
   "outputs": [],
   "source": [
    "import os\n",
    "import pickle\n",
    "import numpy as np\n",
    "import tensorflow as tf\n",
    "import keras as K\n",
    "import librosa\n",
    "import sys\n",
    "\n",
    "import builtins\n",
    "\n",
    "builtins.tf = tf"
   ]
  },
  {
   "cell_type": "code",
   "execution_count": null,
   "metadata": {},
   "outputs": [],
   "source": [
    "project_root = os.path.abspath(os.path.join(os.getcwd(), \"../code\"))\n",
    "\n",
    "# Add to Python path if not already there\n",
    "if project_root not in sys.path:\n",
    "    sys.path.insert(0, project_root)\n",
    "\n",
    "from utils import rename_slashes_in_pump_opmap, rename_slashes_in_pump_ops_list"
   ]
  },
  {
   "cell_type": "code",
   "execution_count": null,
   "metadata": {},
   "outputs": [],
   "source": [
    "# Set your working directory (adjust to your environment)\n",
    "working = \"ADD_YOUR_WORKING_DIRECTORY_HERE\"\n",
    "split = 0  # choose the appropriate split\n",
    "epochs = 5  # choose the appropriate epochs the model was trained on"
   ]
  },
  {
   "cell_type": "code",
   "execution_count": null,
   "metadata": {},
   "outputs": [],
   "source": [
    "def load_model(model_spec_path, weights_path):\n",
    "    # Load the serialized model spec\n",
    "    with open(model_spec_path, \"rb\") as fd:\n",
    "        model_spec = pickle.load(fd)\n",
    "    # Reconstruct the model from the serialized spec\n",
    "    model = K.utils.deserialize_keras_object(model_spec, safe_mode=False)\n",
    "    # Load the weights from the saved file\n",
    "    model.load_weights(weights_path)\n",
    "    return model\n",
    "\n",
    "\n",
    "# Set parameters for the model you wish to load (adjust split/epochs as needed)\n",
    "output_path = os.path.join(working, \"model_deep\")\n",
    "\n",
    "\n",
    "model_spec_path = os.path.join(\n",
    "    output_path, \"fold{:02d}_model_{:03d}_epochs.pkl\".format(split, epochs)\n",
    ")\n",
    "weights_path = os.path.join(\n",
    "    output_path, \"fold{:02d}_weights_{:03d}_epochs.keras\".format(split, epochs)\n",
    ")\n",
    "\n",
    "# Load and display model summary\n",
    "model = load_model(model_spec_path, weights_path)\n",
    "model.summary()"
   ]
  },
  {
   "cell_type": "code",
   "execution_count": null,
   "metadata": {},
   "outputs": [],
   "source": [
    "# Load the pump from your saved file\n",
    "pump_path = os.path.join(working, \"chords/pump.pkl\")\n",
    "with open(pump_path, \"rb\") as fd:\n",
    "    pump = pickle.load(fd)\n",
    "\n",
    "# Rename keys in the pump operators\n",
    "rename_slashes_in_pump_opmap(pump)\n",
    "rename_slashes_in_pump_ops_list(pump)"
   ]
  },
  {
   "cell_type": "code",
   "execution_count": null,
   "metadata": {},
   "outputs": [],
   "source": [
    "def compute_cqt_mag(\n",
    "    audio_path,\n",
    "    sr=44100,\n",
    "    hop_length=4096,\n",
    "    n_bins=216,\n",
    "    bins_per_octave=36,\n",
    "    use_log=True,\n",
    "):\n",
    "    # Load the audio\n",
    "    y, _ = librosa.load(audio_path, sr=sr)\n",
    "    # Compute the constant-Q transform (CQT)\n",
    "    cqt = librosa.cqt(\n",
    "        y,\n",
    "        sr=sr,\n",
    "        hop_length=hop_length,\n",
    "        n_bins=n_bins,\n",
    "        bins_per_octave=bins_per_octave,\n",
    "    )\n",
    "    # Compute magnitude\n",
    "    cqt_mag = np.abs(cqt)\n",
    "    # Apply logarithmic compression if needed (as in your original settings)\n",
    "    if use_log:\n",
    "        cqt_mag = np.log1p(cqt_mag)\n",
    "    # Transpose so that time frames come first and add channel dimension: (time, 216, 1)\n",
    "    cqt_mag = np.expand_dims(cqt_mag.T, axis=-1)\n",
    "    return cqt_mag\n",
    "\n",
    "\n",
    "# Example usage: specify your new audio file path here\n",
    "new_audio_path = \"ADD_YOUR_AUDIO_FILE_PATH_HERE\""
   ]
  },
  {
   "cell_type": "code",
   "execution_count": null,
   "metadata": {},
   "outputs": [],
   "source": [
    "# Compute the CQT magnitude feature for the new audio\n",
    "cqt_mag_feature = compute_cqt_mag(new_audio_path)\n",
    "\n",
    "# Display feature shape (should be (n_frames, 216, 1))\n",
    "print(\"Feature shape:\", cqt_mag_feature.shape)"
   ]
  },
  {
   "cell_type": "code",
   "execution_count": null,
   "metadata": {},
   "outputs": [],
   "source": [
    "# Add a batch dimension: (1, n_frames, 216, 1)\n",
    "input_data = np.expand_dims(cqt_mag_feature, axis=0)\n",
    "\n",
    "# Predict using the loaded model (the output is per time frame)\n",
    "predictions = model.predict(input_data)[0]\n",
    "\n",
    "# Use the pump's chord_tag transformer to convert predictions to chord labels\n",
    "chord_annotation = pump[\"chord_tag\"].inverse(predictions)\n",
    "\n",
    "print(\"Predicted chord annotation:\")\n",
    "print(chord_annotation)"
   ]
  }
 ],
 "metadata": {
  "kernelspec": {
   "display_name": "mir_chords",
   "language": "python",
   "name": "python3"
  },
  "language_info": {
   "codemirror_mode": {
    "name": "ipython",
    "version": 3
   },
   "file_extension": ".py",
   "mimetype": "text/x-python",
   "name": "python",
   "nbconvert_exporter": "python",
   "pygments_lexer": "ipython3",
   "version": "3.11.11"
  }
 },
 "nbformat": 4,
 "nbformat_minor": 2
}
