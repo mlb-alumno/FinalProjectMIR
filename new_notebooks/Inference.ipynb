{
 "cells": [
  {
   "cell_type": "code",
   "execution_count": null,
   "metadata": {},
   "outputs": [],
   "source": [
    "import os\n",
    "import pickle\n",
    "import numpy as np\n",
    "import tensorflow as tf\n",
    "import keras as K\n",
    "import librosa\n",
    "\n",
    "# Define paths\n",
    "working_dir = os.path.join(os.environ['HOME'], 'working', 'chords')\n",
    "model_path = os.path.join(working_dir, 'model_deep', 'fold00_model.pkl')  # Adjust the fold if necessary\n",
    "weights_path = os.path.join(working_dir, 'model_deep', 'fold00_weights.keras')  # Adjust the fold if necessary\n",
    "\n",
    "# Load the pump (preprocessing pipeline)\n",
    "with open(os.path.join(working_dir, 'pump.pkl'), 'rb') as f:\n",
    "    pump = pickle.load(f)\n",
    "\n",
    "# Load the model architecture\n",
    "with open(model_path, 'rb') as f:\n",
    "    model_spec = pickle.load(f)\n",
    "model = K.models.model_from_config(model_spec['config'])\n",
    "\n",
    "# Load the trained weights\n",
    "model.load_weights(weights_path)\n",
    "\n",
    "# Compile the model with the same settings as during training\n",
    "model.compile(optimizer=K.optimizers.Adam(),\n",
    "              loss={'chord_tag': 'sparse_categorical_crossentropy'},\n",
    "              metrics={'chord_tag': 'sparse_categorical_accuracy'})\n"
   ]
  }
 ],
 "metadata": {
  "language_info": {
   "name": "python"
  }
 },
 "nbformat": 4,
 "nbformat_minor": 2
}
