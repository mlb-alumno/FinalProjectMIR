{
 "cells": [
  {
   "cell_type": "code",
   "execution_count": 1,
   "metadata": {},
   "outputs": [],
   "source": [
    "import matplotlib.pyplot as plt\n",
    "%matplotlib nbagg\n",
    "import pandas as pd\n",
    "from glob import glob\n",
    "import numpy as np\n",
    "import seaborn as sns\n",
    "import os\n",
    "\n",
    "sns.set_style('whitegrid')"
   ]
  },
  {
   "cell_type": "code",
   "execution_count": 2,
   "metadata": {},
   "outputs": [],
   "source": [
    "def load_results(path):\n",
    "    \n",
    "    files = sorted(glob(os.path.join(path, 'fold*_test.csv')))\n",
    "    \n",
    "    results = pd.concat([pd.read_csv(fn, index_col=0) for fn in files])\n",
    "    results = results[['root', 'thirds', 'triads', 'sevenths', 'tetrads', 'majmin', 'mirex']]\n",
    "    return results"
   ]
  },
  {
   "cell_type": "code",
   "execution_count": 3,
   "metadata": {},
   "outputs": [],
   "source": [
    "deep = load_results('/Users/manuel/working/chords/model_deep/')"
   ]
  },
  {
   "cell_type": "code",
   "execution_count": 4,
   "metadata": {},
   "outputs": [
    {
     "name": "stdout",
     "output_type": "stream",
     "text": [
      "                  root    thirds    triads  sevenths   tetrads    majmin  \\\n",
      "multisonidos  0.027864  0.027864  0.027864  0.027864  0.027864  0.027864   \n",
      "\n",
      "                 mirex  \n",
      "multisonidos  0.027864  \n"
     ]
    }
   ],
   "source": [
    "results_multi = pd.concat({'CR2': deep}, names=['Model'])\n",
    "\n",
    "# Accessing the data (Example)\n",
    "print(results_multi.loc['CR2'].head())  # Get data for 'CR2'"
   ]
  }
 ],
 "metadata": {
  "kernelspec": {
   "display_name": "mir_chords",
   "language": "python",
   "name": "python3"
  },
  "language_info": {
   "codemirror_mode": {
    "name": "ipython",
    "version": 3
   },
   "file_extension": ".py",
   "mimetype": "text/x-python",
   "name": "python",
   "nbconvert_exporter": "python",
   "pygments_lexer": "ipython3",
   "version": "3.11.11"
  }
 },
 "nbformat": 4,
 "nbformat_minor": 2
}
