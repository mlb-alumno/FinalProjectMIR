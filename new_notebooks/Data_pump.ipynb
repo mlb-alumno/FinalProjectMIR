{
 "cells": [
  {
   "cell_type": "code",
   "execution_count": 21,
   "metadata": {},
   "outputs": [],
   "source": [
    "import os\n",
    "from glob import glob\n",
    "\n",
    "from joblib import Parallel, delayed\n",
    "from tqdm import tqdm_notebook as tqdm\n",
    "import pickle\n",
    "import pandas as pd\n",
    "\n",
    "import pumpp\n",
    "import jams\n",
    "import numpy as np"
   ]
  },
  {
   "cell_type": "markdown",
   "metadata": {},
   "source": [
    "## IMPORTANT: define your working path"
   ]
  },
  {
   "cell_type": "code",
   "execution_count": 22,
   "metadata": {},
   "outputs": [],
   "source": [
    "working = '/Users/manuel/working'"
   ]
  },
  {
   "cell_type": "code",
   "execution_count": 27,
   "metadata": {},
   "outputs": [
    {
     "name": "stdout",
     "output_type": "stream",
     "text": [
      "3144\n",
      "3144\n"
     ]
    }
   ],
   "source": [
    "# LOAD TRAIN AND TEST IN THE PUMP\n",
    "def root(x):\n",
    "    return os.path.splitext(os.path.basename(x))[0]\n",
    "\n",
    "AUDIO = jams.util.find_with_extension(working+'/jazznet/clean_dataset/audios/', 'wav')\n",
    "ANNOS = jams.util.find_with_extension(working+'/jazznet/clean_dataset/jams/', 'jams')\n",
    "\n",
    "print(len(AUDIO))\n",
    "print(len(ANNOS))\n",
    "\n",
    "# Make sure there are the same number of files\n",
    "assert len(AUDIO) == len(ANNOS)\n",
    "\n",
    "# And that they're in agreement\n",
    "assert all([root(_1) == root(_2) for (_1, _2) in zip(AUDIO, ANNOS)])"
   ]
  },
  {
   "cell_type": "code",
   "execution_count": 28,
   "metadata": {},
   "outputs": [],
   "source": [
    "# Build a pump\n",
    "sr = 44100\n",
    "hop_length = 4096\n",
    "\n",
    "p_feature = pumpp.feature.CQTMag(name='cqt', sr=sr, hop_length=hop_length, log=True, conv='tf', n_octaves=6)\n",
    "p_chord_tag = pumpp.task.ChordTagTransformer(name='chord_tag', sr=sr, hop_length=hop_length, sparse=True)\n",
    "p_chord_struct = pumpp.task.ChordTransformer(name='chord_struct', sr=sr, hop_length=hop_length, sparse=True)\n",
    "\n",
    "pump = pumpp.Pump(p_feature, p_chord_tag, p_chord_struct)\n",
    "\n",
    "# Save the pump\n",
    "\n",
    "with open(working+'/chords/pump.pkl', 'wb') as fd:\n",
    "    pickle.dump(pump, fd)"
   ]
  },
  {
   "cell_type": "code",
   "execution_count": 29,
   "metadata": {},
   "outputs": [],
   "source": [
    "def convert(aud, jam, pump, outdir):\n",
    "    \n",
    "    data = pump.transform(aud, jam)\n",
    "    \n",
    "    fname = os.path.extsep.join([root(aud), 'npz'])\n",
    "    \n",
    "    np.savez(os.path.join(outdir, fname), **data)"
   ]
  },
  {
   "cell_type": "code",
   "execution_count": 30,
   "metadata": {},
   "outputs": [],
   "source": [
    "OUTDIR = working+'/chords/pump/'"
   ]
  },
  {
   "cell_type": "code",
   "execution_count": 31,
   "metadata": {},
   "outputs": [
    {
     "name": "stderr",
     "output_type": "stream",
     "text": [
      "[Parallel(n_jobs=20)]: Using backend LokyBackend with 20 concurrent workers.\n",
      "[Parallel(n_jobs=20)]: Done   1 tasks      | elapsed:   10.8s\n",
      "[Parallel(n_jobs=20)]: Done  10 tasks      | elapsed:   11.6s\n",
      "[Parallel(n_jobs=20)]: Done  21 tasks      | elapsed:   12.3s\n",
      "[Parallel(n_jobs=20)]: Done  32 tasks      | elapsed:   12.8s\n",
      "[Parallel(n_jobs=20)]: Done  45 tasks      | elapsed:   13.3s\n",
      "[Parallel(n_jobs=20)]: Done  58 tasks      | elapsed:   13.9s\n",
      "[Parallel(n_jobs=20)]: Done  73 tasks      | elapsed:   14.4s\n",
      "[Parallel(n_jobs=20)]: Done  88 tasks      | elapsed:   15.0s\n",
      "[Parallel(n_jobs=20)]: Done 105 tasks      | elapsed:   15.8s\n",
      "[Parallel(n_jobs=20)]: Done 122 tasks      | elapsed:   16.2s\n",
      "[Parallel(n_jobs=20)]: Done 141 tasks      | elapsed:   16.9s\n",
      "[Parallel(n_jobs=20)]: Done 160 tasks      | elapsed:   17.4s\n",
      "[Parallel(n_jobs=20)]: Done 181 tasks      | elapsed:   18.0s\n",
      "[Parallel(n_jobs=20)]: Done 202 tasks      | elapsed:   18.5s\n",
      "[Parallel(n_jobs=20)]: Done 225 tasks      | elapsed:   19.1s\n",
      "[Parallel(n_jobs=20)]: Done 248 tasks      | elapsed:   19.6s\n",
      "[Parallel(n_jobs=20)]: Done 273 tasks      | elapsed:   20.3s\n",
      "[Parallel(n_jobs=20)]: Done 298 tasks      | elapsed:   21.0s\n",
      "[Parallel(n_jobs=20)]: Done 325 tasks      | elapsed:   21.6s\n",
      "[Parallel(n_jobs=20)]: Done 352 tasks      | elapsed:   22.2s\n",
      "[Parallel(n_jobs=20)]: Done 381 tasks      | elapsed:   22.8s\n",
      "[Parallel(n_jobs=20)]: Done 410 tasks      | elapsed:   23.4s\n",
      "[Parallel(n_jobs=20)]: Done 441 tasks      | elapsed:   24.0s\n",
      "[Parallel(n_jobs=20)]: Done 472 tasks      | elapsed:   24.7s\n",
      "[Parallel(n_jobs=20)]: Done 505 tasks      | elapsed:   25.4s\n",
      "[Parallel(n_jobs=20)]: Done 538 tasks      | elapsed:   26.1s\n",
      "[Parallel(n_jobs=20)]: Done 573 tasks      | elapsed:   26.9s\n",
      "[Parallel(n_jobs=20)]: Done 608 tasks      | elapsed:   27.5s\n",
      "[Parallel(n_jobs=20)]: Done 645 tasks      | elapsed:   28.3s\n",
      "[Parallel(n_jobs=20)]: Done 682 tasks      | elapsed:   29.1s\n",
      "[Parallel(n_jobs=20)]: Done 721 tasks      | elapsed:   30.0s\n",
      "[Parallel(n_jobs=20)]: Done 760 tasks      | elapsed:   30.8s\n",
      "[Parallel(n_jobs=20)]: Done 801 tasks      | elapsed:   31.6s\n",
      "[Parallel(n_jobs=20)]: Done 842 tasks      | elapsed:   32.5s\n",
      "[Parallel(n_jobs=20)]: Done 885 tasks      | elapsed:   33.4s\n",
      "[Parallel(n_jobs=20)]: Done 928 tasks      | elapsed:   34.3s\n",
      "[Parallel(n_jobs=20)]: Done 973 tasks      | elapsed:   35.4s\n",
      "[Parallel(n_jobs=20)]: Done 1018 tasks      | elapsed:   36.3s\n",
      "[Parallel(n_jobs=20)]: Done 1065 tasks      | elapsed:   37.4s\n",
      "[Parallel(n_jobs=20)]: Done 1112 tasks      | elapsed:   38.3s\n",
      "[Parallel(n_jobs=20)]: Done 1161 tasks      | elapsed:   39.2s\n",
      "[Parallel(n_jobs=20)]: Done 1210 tasks      | elapsed:   40.2s\n",
      "[Parallel(n_jobs=20)]: Done 1261 tasks      | elapsed:   41.2s\n",
      "[Parallel(n_jobs=20)]: Done 1312 tasks      | elapsed:   42.2s\n",
      "[Parallel(n_jobs=20)]: Done 1365 tasks      | elapsed:   43.5s\n",
      "[Parallel(n_jobs=20)]: Done 1418 tasks      | elapsed:   44.6s\n",
      "[Parallel(n_jobs=20)]: Done 1473 tasks      | elapsed:   46.0s\n",
      "[Parallel(n_jobs=20)]: Done 1528 tasks      | elapsed:   47.4s\n",
      "[Parallel(n_jobs=20)]: Done 1585 tasks      | elapsed:   48.6s\n",
      "[Parallel(n_jobs=20)]: Done 1642 tasks      | elapsed:   50.0s\n",
      "[Parallel(n_jobs=20)]: Done 1701 tasks      | elapsed:   51.3s\n",
      "[Parallel(n_jobs=20)]: Done 1760 tasks      | elapsed:   52.7s\n",
      "[Parallel(n_jobs=20)]: Done 1821 tasks      | elapsed:   54.0s\n",
      "[Parallel(n_jobs=20)]: Done 1882 tasks      | elapsed:   55.3s\n",
      "[Parallel(n_jobs=20)]: Done 1945 tasks      | elapsed:   56.9s\n",
      "[Parallel(n_jobs=20)]: Done 2008 tasks      | elapsed:   58.4s\n",
      "[Parallel(n_jobs=20)]: Done 2073 tasks      | elapsed:   59.8s\n",
      "[Parallel(n_jobs=20)]: Done 2138 tasks      | elapsed:  1.0min\n",
      "[Parallel(n_jobs=20)]: Done 2205 tasks      | elapsed:  1.0min\n",
      "[Parallel(n_jobs=20)]: Done 2272 tasks      | elapsed:  1.1min\n",
      "[Parallel(n_jobs=20)]: Done 2341 tasks      | elapsed:  1.1min\n",
      "[Parallel(n_jobs=20)]: Done 2410 tasks      | elapsed:  1.1min\n",
      "[Parallel(n_jobs=20)]: Done 2481 tasks      | elapsed:  1.1min\n",
      "[Parallel(n_jobs=20)]: Done 2552 tasks      | elapsed:  1.2min\n",
      "[Parallel(n_jobs=20)]: Done 2625 tasks      | elapsed:  1.2min\n",
      "[Parallel(n_jobs=20)]: Done 2698 tasks      | elapsed:  1.3min\n",
      "[Parallel(n_jobs=20)]: Done 2773 tasks      | elapsed:  1.3min\n",
      "[Parallel(n_jobs=20)]: Done 2848 tasks      | elapsed:  1.4min\n",
      "[Parallel(n_jobs=20)]: Done 2925 tasks      | elapsed:  1.4min\n",
      "[Parallel(n_jobs=20)]: Done 3002 tasks      | elapsed:  1.4min\n",
      "[Parallel(n_jobs=20)]: Done 3081 tasks      | elapsed:  1.5min\n",
      "[Parallel(n_jobs=20)]: Done 3144 out of 3144 | elapsed:  1.5min finished\n"
     ]
    }
   ],
   "source": [
    "Parallel(n_jobs=20, verbose=10)(delayed(convert)(aud, jam, pump, OUTDIR) for (aud, jam) in zip(AUDIO, ANNOS));"
   ]
  },
  {
   "cell_type": "code",
   "execution_count": null,
   "metadata": {},
   "outputs": [],
   "source": []
  }
 ],
 "metadata": {
  "kernelspec": {
   "display_name": "mir_chords",
   "language": "python",
   "name": "python3"
  },
  "language_info": {
   "codemirror_mode": {
    "name": "ipython",
    "version": 3
   },
   "file_extension": ".py",
   "mimetype": "text/x-python",
   "name": "python",
   "nbconvert_exporter": "python",
   "pygments_lexer": "ipython3",
   "version": "3.11.11"
  }
 },
 "nbformat": 4,
 "nbformat_minor": 2
}
