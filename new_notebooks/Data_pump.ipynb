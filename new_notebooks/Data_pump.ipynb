{
 "cells": [
  {
   "cell_type": "code",
   "execution_count": 2,
   "metadata": {},
   "outputs": [],
   "source": [
    "import os\n",
    "from glob import glob\n",
    "\n",
    "from joblib import Parallel, delayed\n",
    "from tqdm import tqdm_notebook as tqdm\n",
    "import pickle\n",
    "import pandas as pd\n",
    "\n",
    "import pumpp\n",
    "import jams\n",
    "import numpy as np"
   ]
  },
  {
   "cell_type": "markdown",
   "metadata": {},
   "source": [
    "## IMPORTANT: define your working path"
   ]
  },
  {
   "cell_type": "code",
   "execution_count": 3,
   "metadata": {},
   "outputs": [],
   "source": [
    "working = '/Users/manuel/working'"
   ]
  },
  {
   "cell_type": "code",
   "execution_count": 4,
   "metadata": {},
   "outputs": [
    {
     "name": "stdout",
     "output_type": "stream",
     "text": [
      "['/Users/manuel/working/audio/multisonidos.mp3']\n",
      "['/Users/manuel/working/annotations/multisonidos.jams']\n"
     ]
    }
   ],
   "source": [
    "def root(x):\n",
    "    return os.path.splitext(os.path.basename(x))[0]\n",
    "\n",
    "AUDIO = jams.util.find_with_extension(working+'/audio/', 'mp3')\n",
    "ANNOS = jams.util.find_with_extension(working+'/annotations/', 'jams')\n",
    "\n",
    "print(AUDIO)\n",
    "print(ANNOS)\n",
    "\n",
    "# Make sure there are the same number of files\n",
    "assert len(AUDIO) == len(ANNOS)\n",
    "\n",
    "# And that they're in agreement\n",
    "assert all([root(_1) == root(_2) for (_1, _2) in zip(AUDIO, ANNOS)])"
   ]
  },
  {
   "cell_type": "code",
   "execution_count": 5,
   "metadata": {},
   "outputs": [],
   "source": [
    "# Build a pump\n",
    "sr = 44100\n",
    "hop_length = 4096\n",
    "\n",
    "p_feature = pumpp.feature.CQTMag(name='cqt', sr=sr, hop_length=hop_length, log=True, conv='tf', n_octaves=6)\n",
    "p_chord_tag = pumpp.task.ChordTagTransformer(name='chord_tag', sr=sr, hop_length=hop_length, sparse=True)\n",
    "p_chord_struct = pumpp.task.ChordTransformer(name='chord_struct', sr=sr, hop_length=hop_length, sparse=True)\n",
    "\n",
    "pump = pumpp.Pump(p_feature, p_chord_tag, p_chord_struct)\n",
    "\n",
    "# Save the pump\n",
    "\n",
    "with open(working+'/chords/pump.pkl', 'wb') as fd:\n",
    "    pickle.dump(pump, fd)"
   ]
  },
  {
   "cell_type": "code",
   "execution_count": 6,
   "metadata": {},
   "outputs": [],
   "source": [
    "def convert(aud, jam, pump, outdir):\n",
    "    \n",
    "    data = pump.transform(aud, jam)\n",
    "    \n",
    "    fname = os.path.extsep.join([root(aud), 'npz'])\n",
    "    \n",
    "    np.savez(os.path.join(outdir, fname), **data)"
   ]
  },
  {
   "cell_type": "code",
   "execution_count": 7,
   "metadata": {},
   "outputs": [],
   "source": [
    "OUTDIR = working+'/chords/pump/'"
   ]
  },
  {
   "cell_type": "code",
   "execution_count": 8,
   "metadata": {},
   "outputs": [
    {
     "name": "stderr",
     "output_type": "stream",
     "text": [
      "[Parallel(n_jobs=20)]: Using backend LokyBackend with 20 concurrent workers.\n",
      "[Parallel(n_jobs=20)]: Done   1 tasks      | elapsed:    7.1s\n"
     ]
    }
   ],
   "source": [
    "Parallel(n_jobs=20, verbose=10)(delayed(convert)(aud, jam, pump, OUTDIR) for (aud, jam) in zip(AUDIO, ANNOS));"
   ]
  },
  {
   "cell_type": "code",
   "execution_count": null,
   "metadata": {},
   "outputs": [],
   "source": []
  }
 ],
 "metadata": {
  "kernelspec": {
   "display_name": "mir_chords",
   "language": "python",
   "name": "python3"
  },
  "language_info": {
   "codemirror_mode": {
    "name": "ipython",
    "version": 3
   },
   "file_extension": ".py",
   "mimetype": "text/x-python",
   "name": "python",
   "nbconvert_exporter": "python",
   "pygments_lexer": "ipython3",
   "version": "3.11.11"
  }
 },
 "nbformat": 4,
 "nbformat_minor": 2
}
